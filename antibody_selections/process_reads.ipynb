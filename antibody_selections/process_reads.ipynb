{
 "cells": [
  {
   "cell_type": "code",
   "execution_count": 1,
   "id": "eb8cf439-2b67-46fb-ae16-ccca2a3d26a9",
   "metadata": {},
   "outputs": [],
   "source": [
    "#flu selections"
   ]
  },
  {
   "cell_type": "code",
   "execution_count": 1,
   "id": "ec7aaa6d-6d80-4c61-ab6a-1cc5f993060c",
   "metadata": {},
   "outputs": [],
   "source": [
    "import pandas as pd\n",
    "pd.set_option('display.max_rows', 10)\n",
    "pd.set_option('display.max_columns', None)\n",
    "\n",
    "import os\n",
    "import matplotlib\n",
    "import seaborn as sns\n",
    "\n",
    "from Bio import SeqIO\n",
    "from Bio.Seq import Seq\n",
    "\n",
    "import warnings\n",
    "import itertools\n",
    "import numpy as np\n",
    "\n",
    "import tqdm\n",
    "import gc\n",
    "\n",
    "import scipy as sp"
   ]
  },
  {
   "cell_type": "code",
   "execution_count": 2,
   "id": "e4d80512-a770-4939-8b5f-dddf8c6ca38f",
   "metadata": {},
   "outputs": [],
   "source": [
    "warnings.simplefilter('ignore')"
   ]
  },
  {
   "cell_type": "code",
   "execution_count": 10,
   "id": "689e3b47-53bf-4e22-8139-39538bb28625",
   "metadata": {
    "tags": []
   },
   "outputs": [
    {
     "data": {
      "text/html": [
       "<div>\n",
       "<style scoped>\n",
       "    .dataframe tbody tr th:only-of-type {\n",
       "        vertical-align: middle;\n",
       "    }\n",
       "\n",
       "    .dataframe tbody tr th {\n",
       "        vertical-align: top;\n",
       "    }\n",
       "\n",
       "    .dataframe thead th {\n",
       "        text-align: right;\n",
       "    }\n",
       "</style>\n",
       "<table border=\"1\" class=\"dataframe\">\n",
       "  <thead>\n",
       "    <tr style=\"text-align: right;\">\n",
       "      <th></th>\n",
       "      <th>sample_name</th>\n",
       "      <th>virus_background</th>\n",
       "      <th>replicate</th>\n",
       "      <th>selection</th>\n",
       "      <th>sample_id</th>\n",
       "      <th>Lane</th>\n",
       "      <th>inline_fwd</th>\n",
       "      <th>inline_rev</th>\n",
       "      <th>read_1_file</th>\n",
       "      <th>read_2_file</th>\n",
       "    </tr>\n",
       "  </thead>\n",
       "  <tbody>\n",
       "    <tr>\n",
       "      <th>0</th>\n",
       "      <td>USSR77_R1_NoAb_L1</td>\n",
       "      <td>USSR77</td>\n",
       "      <td>R1</td>\n",
       "      <td>NoAb</td>\n",
       "      <td>1</td>\n",
       "      <td>1</td>\n",
       "      <td>TTGATCG</td>\n",
       "      <td>TACCTGA</td>\n",
       "      <td>data/sequencing_data/NoAb_USSR77_1_S1_L001_R1_...</td>\n",
       "      <td>data/sequencing_data/NoAb_USSR77_1_S1_L001_R2_...</td>\n",
       "    </tr>\n",
       "    <tr>\n",
       "      <th>1</th>\n",
       "      <td>USSR77_R1_NoAb_L2</td>\n",
       "      <td>USSR77</td>\n",
       "      <td>R1</td>\n",
       "      <td>NoAb</td>\n",
       "      <td>1</td>\n",
       "      <td>2</td>\n",
       "      <td>TTGATCG</td>\n",
       "      <td>TACCTGA</td>\n",
       "      <td>data/sequencing_data/NoAb_USSR77_1_S1_L002_R1_...</td>\n",
       "      <td>data/sequencing_data/NoAb_USSR77_1_S1_L002_R2_...</td>\n",
       "    </tr>\n",
       "    <tr>\n",
       "      <th>2</th>\n",
       "      <td>USSR77_R2_NoAb_L1</td>\n",
       "      <td>USSR77</td>\n",
       "      <td>R2</td>\n",
       "      <td>NoAb</td>\n",
       "      <td>2</td>\n",
       "      <td>1</td>\n",
       "      <td>CATTCTCGAG</td>\n",
       "      <td>TACCTGA</td>\n",
       "      <td>data/sequencing_data/NoAb_USSR77_2_S2_L001_R1_...</td>\n",
       "      <td>data/sequencing_data/NoAb_USSR77_2_S2_L001_R2_...</td>\n",
       "    </tr>\n",
       "    <tr>\n",
       "      <th>3</th>\n",
       "      <td>USSR77_R2_NoAb_L2</td>\n",
       "      <td>USSR77</td>\n",
       "      <td>R2</td>\n",
       "      <td>NoAb</td>\n",
       "      <td>2</td>\n",
       "      <td>2</td>\n",
       "      <td>CATTCTCGAG</td>\n",
       "      <td>TACCTGA</td>\n",
       "      <td>data/sequencing_data/NoAb_USSR77_2_S2_L002_R1_...</td>\n",
       "      <td>data/sequencing_data/NoAb_USSR77_2_S2_L002_R2_...</td>\n",
       "    </tr>\n",
       "    <tr>\n",
       "      <th>4</th>\n",
       "      <td>SN89_R1_NoAb_L1</td>\n",
       "      <td>SN89</td>\n",
       "      <td>R1</td>\n",
       "      <td>NoAb</td>\n",
       "      <td>3</td>\n",
       "      <td>1</td>\n",
       "      <td>CCTTAGTACTA</td>\n",
       "      <td>TACCTGA</td>\n",
       "      <td>data/sequencing_data/NoAb_SN89_1_S3_L001_R1_00...</td>\n",
       "      <td>data/sequencing_data/NoAb_SN89_1_S3_L001_R2_00...</td>\n",
       "    </tr>\n",
       "    <tr>\n",
       "      <th>...</th>\n",
       "      <td>...</td>\n",
       "      <td>...</td>\n",
       "      <td>...</td>\n",
       "      <td>...</td>\n",
       "      <td>...</td>\n",
       "      <td>...</td>\n",
       "      <td>...</td>\n",
       "      <td>...</td>\n",
       "      <td>...</td>\n",
       "      <td>...</td>\n",
       "    </tr>\n",
       "    <tr>\n",
       "      <th>123</th>\n",
       "      <td>SYD21_R2_ADI-77470_L2</td>\n",
       "      <td>SYD21</td>\n",
       "      <td>R2</td>\n",
       "      <td>ADI-77470</td>\n",
       "      <td>62</td>\n",
       "      <td>2</td>\n",
       "      <td>GATGTCCT</td>\n",
       "      <td>GAGATCAC</td>\n",
       "      <td>data/sequencing_data/ADI-77470_SYD21_2_S62_L00...</td>\n",
       "      <td>data/sequencing_data/ADI-77470_SYD21_2_S62_L00...</td>\n",
       "    </tr>\n",
       "    <tr>\n",
       "      <th>124</th>\n",
       "      <td>SYD21_R1_ADI-86325_L1</td>\n",
       "      <td>SYD21</td>\n",
       "      <td>R1</td>\n",
       "      <td>ADI-86325</td>\n",
       "      <td>63</td>\n",
       "      <td>1</td>\n",
       "      <td>CTCATCCAG</td>\n",
       "      <td>GAGATCAC</td>\n",
       "      <td>data/sequencing_data/ADI-86325_SYD21_1_S63_L00...</td>\n",
       "      <td>data/sequencing_data/ADI-86325_SYD21_1_S63_L00...</td>\n",
       "    </tr>\n",
       "    <tr>\n",
       "      <th>125</th>\n",
       "      <td>SYD21_R1_ADI-86325_L2</td>\n",
       "      <td>SYD21</td>\n",
       "      <td>R1</td>\n",
       "      <td>ADI-86325</td>\n",
       "      <td>63</td>\n",
       "      <td>2</td>\n",
       "      <td>CTCATCCAG</td>\n",
       "      <td>GAGATCAC</td>\n",
       "      <td>data/sequencing_data/ADI-86325_SYD21_1_S63_L00...</td>\n",
       "      <td>data/sequencing_data/ADI-86325_SYD21_1_S63_L00...</td>\n",
       "    </tr>\n",
       "    <tr>\n",
       "      <th>126</th>\n",
       "      <td>SYD21_R2_ADI-86325_L1</td>\n",
       "      <td>SYD21</td>\n",
       "      <td>R2</td>\n",
       "      <td>ADI-86325</td>\n",
       "      <td>64</td>\n",
       "      <td>1</td>\n",
       "      <td>GACGGAACTC</td>\n",
       "      <td>GAGATCAC</td>\n",
       "      <td>data/sequencing_data/ADI-86325_SYD21_2_S64_L00...</td>\n",
       "      <td>data/sequencing_data/ADI-86325_SYD21_2_S64_L00...</td>\n",
       "    </tr>\n",
       "    <tr>\n",
       "      <th>127</th>\n",
       "      <td>SYD21_R2_ADI-86325_L2</td>\n",
       "      <td>SYD21</td>\n",
       "      <td>R2</td>\n",
       "      <td>ADI-86325</td>\n",
       "      <td>64</td>\n",
       "      <td>2</td>\n",
       "      <td>GACGGAACTC</td>\n",
       "      <td>GAGATCAC</td>\n",
       "      <td>data/sequencing_data/ADI-86325_SYD21_2_S64_L00...</td>\n",
       "      <td>data/sequencing_data/ADI-86325_SYD21_2_S64_L00...</td>\n",
       "    </tr>\n",
       "  </tbody>\n",
       "</table>\n",
       "<p>128 rows × 10 columns</p>\n",
       "</div>"
      ],
      "text/plain": [
       "               sample_name virus_background replicate  selection  sample_id  \\\n",
       "0        USSR77_R1_NoAb_L1           USSR77        R1       NoAb          1   \n",
       "1        USSR77_R1_NoAb_L2           USSR77        R1       NoAb          1   \n",
       "2        USSR77_R2_NoAb_L1           USSR77        R2       NoAb          2   \n",
       "3        USSR77_R2_NoAb_L2           USSR77        R2       NoAb          2   \n",
       "4          SN89_R1_NoAb_L1             SN89        R1       NoAb          3   \n",
       "..                     ...              ...       ...        ...        ...   \n",
       "123  SYD21_R2_ADI-77470_L2            SYD21        R2  ADI-77470         62   \n",
       "124  SYD21_R1_ADI-86325_L1            SYD21        R1  ADI-86325         63   \n",
       "125  SYD21_R1_ADI-86325_L2            SYD21        R1  ADI-86325         63   \n",
       "126  SYD21_R2_ADI-86325_L1            SYD21        R2  ADI-86325         64   \n",
       "127  SYD21_R2_ADI-86325_L2            SYD21        R2  ADI-86325         64   \n",
       "\n",
       "     Lane   inline_fwd inline_rev  \\\n",
       "0       1      TTGATCG    TACCTGA   \n",
       "1       2      TTGATCG    TACCTGA   \n",
       "2       1   CATTCTCGAG    TACCTGA   \n",
       "3       2   CATTCTCGAG    TACCTGA   \n",
       "4       1  CCTTAGTACTA    TACCTGA   \n",
       "..    ...          ...        ...   \n",
       "123     2     GATGTCCT   GAGATCAC   \n",
       "124     1    CTCATCCAG   GAGATCAC   \n",
       "125     2    CTCATCCAG   GAGATCAC   \n",
       "126     1   GACGGAACTC   GAGATCAC   \n",
       "127     2   GACGGAACTC   GAGATCAC   \n",
       "\n",
       "                                           read_1_file  \\\n",
       "0    data/sequencing_data/NoAb_USSR77_1_S1_L001_R1_...   \n",
       "1    data/sequencing_data/NoAb_USSR77_1_S1_L002_R1_...   \n",
       "2    data/sequencing_data/NoAb_USSR77_2_S2_L001_R1_...   \n",
       "3    data/sequencing_data/NoAb_USSR77_2_S2_L002_R1_...   \n",
       "4    data/sequencing_data/NoAb_SN89_1_S3_L001_R1_00...   \n",
       "..                                                 ...   \n",
       "123  data/sequencing_data/ADI-77470_SYD21_2_S62_L00...   \n",
       "124  data/sequencing_data/ADI-86325_SYD21_1_S63_L00...   \n",
       "125  data/sequencing_data/ADI-86325_SYD21_1_S63_L00...   \n",
       "126  data/sequencing_data/ADI-86325_SYD21_2_S64_L00...   \n",
       "127  data/sequencing_data/ADI-86325_SYD21_2_S64_L00...   \n",
       "\n",
       "                                           read_2_file  \n",
       "0    data/sequencing_data/NoAb_USSR77_1_S1_L001_R2_...  \n",
       "1    data/sequencing_data/NoAb_USSR77_1_S1_L002_R2_...  \n",
       "2    data/sequencing_data/NoAb_USSR77_2_S2_L001_R2_...  \n",
       "3    data/sequencing_data/NoAb_USSR77_2_S2_L002_R2_...  \n",
       "4    data/sequencing_data/NoAb_SN89_1_S3_L001_R2_00...  \n",
       "..                                                 ...  \n",
       "123  data/sequencing_data/ADI-77470_SYD21_2_S62_L00...  \n",
       "124  data/sequencing_data/ADI-86325_SYD21_1_S63_L00...  \n",
       "125  data/sequencing_data/ADI-86325_SYD21_1_S63_L00...  \n",
       "126  data/sequencing_data/ADI-86325_SYD21_2_S64_L00...  \n",
       "127  data/sequencing_data/ADI-86325_SYD21_2_S64_L00...  \n",
       "\n",
       "[128 rows x 10 columns]"
      ]
     },
     "execution_count": 10,
     "metadata": {},
     "output_type": "execute_result"
    }
   ],
   "source": [
    "#load in the sample information table\n",
    "samples=pd.read_csv('data/samples.csv')\n",
    "samples"
   ]
  },
  {
   "cell_type": "code",
   "execution_count": 6,
   "id": "9f5f35ef-27c8-486f-a367-81131b62bd27",
   "metadata": {
    "scrolled": true,
    "tags": []
   },
   "outputs": [
    {
     "name": "stdout",
     "output_type": "stream",
     "text": [
      " ____  _____    _    ____ \n",
      "|  _ \\| ____|  / \\  |  _ \\\n",
      "| |_) |  _|   / _ \\ | |_) |\n",
      "|  __/| |___ / ___ \\|  _ <\n",
      "|_|   |_____/_/   \\_\\_| \\_\\\n",
      "\n",
      "PEAR v0.9.6 [January 15, 2015]\n",
      "\n",
      "Citation - PEAR: a fast and accurate Illumina Paired-End reAd mergeR\n",
      "Zhang et al (2014) Bioinformatics 30(5): 614-620 | doi:10.1093/bioinformatics/btt593\n",
      "\n",
      "Forward reads file.................: data/sequencing_data/CH65_ND_SN89_1_S15_L001_R1_001.fastq.gz\n",
      "Reverse reads file.................: data/sequencing_data/CH65_ND_SN89_1_S15_L001_R2_001.fastq.gz\n",
      "PHRED..............................: 33\n",
      "Using empirical frequencies........: YES\n",
      "Statistical method.................: OES\n",
      "Maximum assembly length............: 999999\n",
      "Minimum assembly length............: 50\n",
      "p-value............................: 0.010000\n",
      "Quality score threshold (trimming).: 0\n",
      "Minimum read size after trimming...: 1\n",
      "Maximal ratio of uncalled bases....: 1.000000\n",
      "Minimum overlap....................: 10\n",
      "Scoring method.....................: Scaled score\n",
      "Threads............................: 6\n",
      "\n",
      "Allocating memory..................: 200,000,000 bytes\n",
      "Computing empirical frequencies....: DONE\n",
      "  A: 0.260274\n",
      "  C: 0.240108\n",
      "  G: 0.240660\n",
      "  T: 0.258958\n",
      "  4888 uncalled bases\n",
      "Assemblying reads: 100%\n",
      "\n",
      "Assembled reads ...................: 6,002,088 / 6,030,073 (99.536%)\n",
      "Discarded reads ...................: 0 / 6,030,073 (0.000%)\n",
      "Not assembled reads ...............: 27,985 / 6,030,073 (0.464%)\n",
      "Assembled reads file...............: data/sequencing_data/pear_output/SN89_R1_CH65_ND_L1.assembled.fastq\n",
      "Discarded reads file...............: data/sequencing_data/pear_output/SN89_R1_CH65_ND_L1.discarded.fastq\n",
      "Unassembled forward reads file.....: data/sequencing_data/pear_output/SN89_R1_CH65_ND_L1.unassembled.forward.fastq\n",
      "Unassembled reverse reads file.....: data/sequencing_data/pear_output/SN89_R1_CH65_ND_L1.unassembled.reverse.fastq\n",
      " ____  _____    _    ____ \n",
      "|  _ \\| ____|  / \\  |  _ \\\n",
      "| |_) |  _|   / _ \\ | |_) |\n",
      "|  __/| |___ / ___ \\|  _ <\n",
      "|_|   |_____/_/   \\_\\_| \\_\\\n",
      "\n",
      "PEAR v0.9.6 [January 15, 2015]\n",
      "\n",
      "Citation - PEAR: a fast and accurate Illumina Paired-End reAd mergeR\n",
      "Zhang et al (2014) Bioinformatics 30(5): 614-620 | doi:10.1093/bioinformatics/btt593\n",
      "\n",
      "Forward reads file.................: data/sequencing_data/CH65_ND_SN89_1_S15_L002_R1_001.fastq.gz\n",
      "Reverse reads file.................: data/sequencing_data/CH65_ND_SN89_1_S15_L002_R2_001.fastq.gz\n",
      "PHRED..............................: 33\n",
      "Using empirical frequencies........: YES\n",
      "Statistical method.................: OES\n",
      "Maximum assembly length............: 999999\n",
      "Minimum assembly length............: 50\n",
      "p-value............................: 0.010000\n",
      "Quality score threshold (trimming).: 0\n",
      "Minimum read size after trimming...: 1\n",
      "Maximal ratio of uncalled bases....: 1.000000\n",
      "Minimum overlap....................: 10\n",
      "Scoring method.....................: Scaled score\n",
      "Threads............................: 6\n",
      "\n",
      "Allocating memory..................: 200,000,000 bytes\n",
      "Computing empirical frequencies....: DONE\n",
      "  A: 0.260282\n",
      "  C: 0.240091\n",
      "  G: 0.240656\n",
      "  T: 0.258971\n",
      "  3534 uncalled bases\n",
      "Assemblying reads: 100%\n",
      "\n",
      "Assembled reads ...................: 6,032,240 / 6,060,982 (99.526%)\n",
      "Discarded reads ...................: 0 / 6,060,982 (0.000%)\n",
      "Not assembled reads ...............: 28,742 / 6,060,982 (0.474%)\n",
      "Assembled reads file...............: data/sequencing_data/pear_output/SN89_R1_CH65_ND_L2.assembled.fastq\n",
      "Discarded reads file...............: data/sequencing_data/pear_output/SN89_R1_CH65_ND_L2.discarded.fastq\n",
      "Unassembled forward reads file.....: data/sequencing_data/pear_output/SN89_R1_CH65_ND_L2.unassembled.forward.fastq\n",
      "Unassembled reverse reads file.....: data/sequencing_data/pear_output/SN89_R1_CH65_ND_L2.unassembled.reverse.fastq\n",
      " ____  _____    _    ____ \n",
      "|  _ \\| ____|  / \\  |  _ \\\n",
      "| |_) |  _|   / _ \\ | |_) |\n",
      "|  __/| |___ / ___ \\|  _ <\n",
      "|_|   |_____/_/   \\_\\_| \\_\\\n",
      "\n",
      "PEAR v0.9.6 [January 15, 2015]\n",
      "\n",
      "Citation - PEAR: a fast and accurate Illumina Paired-End reAd mergeR\n",
      "Zhang et al (2014) Bioinformatics 30(5): 614-620 | doi:10.1093/bioinformatics/btt593\n",
      "\n",
      "Forward reads file.................: data/sequencing_data/CH65_ND_SN89_2_S16_L001_R1_001.fastq.gz\n",
      "Reverse reads file.................: data/sequencing_data/CH65_ND_SN89_2_S16_L001_R2_001.fastq.gz\n",
      "PHRED..............................: 33\n",
      "Using empirical frequencies........: YES\n",
      "Statistical method.................: OES\n",
      "Maximum assembly length............: 999999\n",
      "Minimum assembly length............: 50\n",
      "p-value............................: 0.010000\n",
      "Quality score threshold (trimming).: 0\n",
      "Minimum read size after trimming...: 1\n",
      "Maximal ratio of uncalled bases....: 1.000000\n",
      "Minimum overlap....................: 10\n",
      "Scoring method.....................: Scaled score\n",
      "Threads............................: 6\n",
      "\n",
      "Allocating memory..................: 200,000,000 bytes\n",
      "Computing empirical frequencies....: DONE\n",
      "  A: 0.264898\n",
      "  C: 0.240583\n",
      "  G: 0.245559\n",
      "  T: 0.248959\n",
      "  6969 uncalled bases\n",
      "Assemblying reads: 100%\n",
      "\n",
      "Assembled reads ...................: 7,928,128 / 7,945,636 (99.780%)\n",
      "Discarded reads ...................: 0 / 7,945,636 (0.000%)\n",
      "Not assembled reads ...............: 17,508 / 7,945,636 (0.220%)\n",
      "Assembled reads file...............: data/sequencing_data/pear_output/SN89_R2_CH65_ND_L1.assembled.fastq\n",
      "Discarded reads file...............: data/sequencing_data/pear_output/SN89_R2_CH65_ND_L1.discarded.fastq\n",
      "Unassembled forward reads file.....: data/sequencing_data/pear_output/SN89_R2_CH65_ND_L1.unassembled.forward.fastq\n",
      "Unassembled reverse reads file.....: data/sequencing_data/pear_output/SN89_R2_CH65_ND_L1.unassembled.reverse.fastq\n",
      " ____  _____    _    ____ \n",
      "|  _ \\| ____|  / \\  |  _ \\\n",
      "| |_) |  _|   / _ \\ | |_) |\n",
      "|  __/| |___ / ___ \\|  _ <\n",
      "|_|   |_____/_/   \\_\\_| \\_\\\n",
      "\n",
      "PEAR v0.9.6 [January 15, 2015]\n",
      "\n",
      "Citation - PEAR: a fast and accurate Illumina Paired-End reAd mergeR\n",
      "Zhang et al (2014) Bioinformatics 30(5): 614-620 | doi:10.1093/bioinformatics/btt593\n",
      "\n",
      "Forward reads file.................: data/sequencing_data/CH65_ND_SN89_2_S16_L002_R1_001.fastq.gz\n",
      "Reverse reads file.................: data/sequencing_data/CH65_ND_SN89_2_S16_L002_R2_001.fastq.gz\n",
      "PHRED..............................: 33\n",
      "Using empirical frequencies........: YES\n",
      "Statistical method.................: OES\n",
      "Maximum assembly length............: 999999\n",
      "Minimum assembly length............: 50\n",
      "p-value............................: 0.010000\n",
      "Quality score threshold (trimming).: 0\n",
      "Minimum read size after trimming...: 1\n",
      "Maximal ratio of uncalled bases....: 1.000000\n",
      "Minimum overlap....................: 10\n",
      "Scoring method.....................: Scaled score\n",
      "Threads............................: 6\n",
      "\n",
      "Allocating memory..................: 200,000,000 bytes\n",
      "Computing empirical frequencies....: DONE\n",
      "  A: 0.264894\n",
      "  C: 0.240577\n",
      "  G: 0.245572\n",
      "  T: 0.248957\n",
      "  5039 uncalled bases\n",
      "Assemblying reads: 100%\n",
      "\n",
      "Assembled reads ...................: 8,005,879 / 8,023,889 (99.776%)\n",
      "Discarded reads ...................: 0 / 8,023,889 (0.000%)\n",
      "Not assembled reads ...............: 18,010 / 8,023,889 (0.224%)\n",
      "Assembled reads file...............: data/sequencing_data/pear_output/SN89_R2_CH65_ND_L2.assembled.fastq\n",
      "Discarded reads file...............: data/sequencing_data/pear_output/SN89_R2_CH65_ND_L2.discarded.fastq\n",
      "Unassembled forward reads file.....: data/sequencing_data/pear_output/SN89_R2_CH65_ND_L2.unassembled.forward.fastq\n",
      "Unassembled reverse reads file.....: data/sequencing_data/pear_output/SN89_R2_CH65_ND_L2.unassembled.reverse.fastq\n"
     ]
    }
   ],
   "source": [
    "#run PEAR for paired end alignments for all samples\n",
    "for idx,row in samples.iterrows():\n",
    "    sample_name = row['sample_name']\n",
    "    fwd_read = row['read_1_file']\n",
    "    rev_read = row['read_2_file']\n",
    "    os.system(f'pear -f {fwd_read} -r {rev_read} -o \"data/sequencing_data/pear_output/\"{sample_name} -j 6')"
   ]
  },
  {
   "cell_type": "code",
   "execution_count": 15,
   "id": "76773e59-6234-49b5-bc90-6085bc803221",
   "metadata": {
    "scrolled": true,
    "tags": []
   },
   "outputs": [
    {
     "name": "stdout",
     "output_type": "stream",
     "text": [
      "Now processing: USSR77_R1_NoAb_L1\n"
     ]
    },
    {
     "name": "stderr",
     "output_type": "stream",
     "text": [
      "6829711it [01:12, 94400.97it/s]\n"
     ]
    },
    {
     "name": "stdout",
     "output_type": "stream",
     "text": [
      "Dataframe length: 5716580\n",
      "Now processing: USSR77_R1_NoAb_L2\n"
     ]
    },
    {
     "name": "stderr",
     "output_type": "stream",
     "text": [
      "6865796it [01:14, 92479.21it/s]\n"
     ]
    },
    {
     "name": "stdout",
     "output_type": "stream",
     "text": [
      "Dataframe length: 5772280\n",
      "Now processing: USSR77_R2_NoAb_L1\n"
     ]
    },
    {
     "name": "stderr",
     "output_type": "stream",
     "text": [
      "6893867it [01:11, 96949.93it/s] \n"
     ]
    },
    {
     "name": "stdout",
     "output_type": "stream",
     "text": [
      "Dataframe length: 3741073\n",
      "Now processing: USSR77_R2_NoAb_L2\n"
     ]
    },
    {
     "name": "stderr",
     "output_type": "stream",
     "text": [
      "6973592it [01:11, 97704.97it/s] \n"
     ]
    },
    {
     "name": "stdout",
     "output_type": "stream",
     "text": [
      "Dataframe length: 3797718\n",
      "Now processing: SN89_R1_NoAb_L1\n"
     ]
    },
    {
     "name": "stderr",
     "output_type": "stream",
     "text": [
      "5363075it [00:57, 93582.52it/s]\n"
     ]
    },
    {
     "name": "stdout",
     "output_type": "stream",
     "text": [
      "Dataframe length: 4289571\n",
      "Now processing: SN89_R1_NoAb_L2\n"
     ]
    },
    {
     "name": "stderr",
     "output_type": "stream",
     "text": [
      "5380523it [00:58, 92415.31it/s]\n"
     ]
    },
    {
     "name": "stdout",
     "output_type": "stream",
     "text": [
      "Dataframe length: 4321011\n",
      "Now processing: SN89_R2_NoAb_L1\n"
     ]
    },
    {
     "name": "stderr",
     "output_type": "stream",
     "text": [
      "6191720it [01:07, 91712.94it/s]\n"
     ]
    },
    {
     "name": "stdout",
     "output_type": "stream",
     "text": [
      "Dataframe length: 5264238\n",
      "Now processing: SN89_R2_NoAb_L2\n"
     ]
    },
    {
     "name": "stderr",
     "output_type": "stream",
     "text": [
      "6250583it [01:08, 91777.82it/s]\n"
     ]
    },
    {
     "name": "stdout",
     "output_type": "stream",
     "text": [
      "Dataframe length: 5335548\n",
      "Now processing: SI06_R1_NoAb_L1\n"
     ]
    },
    {
     "name": "stderr",
     "output_type": "stream",
     "text": [
      "5959159it [01:03, 94492.79it/s]\n"
     ]
    },
    {
     "name": "stdout",
     "output_type": "stream",
     "text": [
      "Dataframe length: 4936910\n",
      "Now processing: SI06_R1_NoAb_L2\n"
     ]
    },
    {
     "name": "stderr",
     "output_type": "stream",
     "text": [
      "5982324it [01:01, 96598.93it/s]\n"
     ]
    },
    {
     "name": "stdout",
     "output_type": "stream",
     "text": [
      "Dataframe length: 4977269\n",
      "Now processing: SI06_R2_NoAb_L1\n"
     ]
    },
    {
     "name": "stderr",
     "output_type": "stream",
     "text": [
      "6686829it [01:10, 95384.77it/s]\n"
     ]
    },
    {
     "name": "stdout",
     "output_type": "stream",
     "text": [
      "Dataframe length: 5539093\n",
      "Now processing: SI06_R2_NoAb_L2\n"
     ]
    },
    {
     "name": "stderr",
     "output_type": "stream",
     "text": [
      "6718675it [01:11, 94581.40it/s]\n"
     ]
    },
    {
     "name": "stdout",
     "output_type": "stream",
     "text": [
      "Dataframe length: 5590832\n",
      "Now processing: SYD21_R1_NoAb_L1\n"
     ]
    },
    {
     "name": "stderr",
     "output_type": "stream",
     "text": [
      "6324477it [01:06, 95085.40it/s]\n"
     ]
    },
    {
     "name": "stdout",
     "output_type": "stream",
     "text": [
      "Dataframe length: 5047907\n",
      "Now processing: SYD21_R1_NoAb_L2\n"
     ]
    },
    {
     "name": "stderr",
     "output_type": "stream",
     "text": [
      "6352577it [01:06, 94916.21it/s]\n"
     ]
    },
    {
     "name": "stdout",
     "output_type": "stream",
     "text": [
      "Dataframe length: 5088167\n",
      "Now processing: SYD21_R2_NoAb_L1\n"
     ]
    },
    {
     "name": "stderr",
     "output_type": "stream",
     "text": [
      "9017132it [01:36, 93707.06it/s]\n"
     ]
    },
    {
     "name": "stdout",
     "output_type": "stream",
     "text": [
      "Dataframe length: 6914971\n",
      "Now processing: SYD21_R2_NoAb_L2\n"
     ]
    },
    {
     "name": "stderr",
     "output_type": "stream",
     "text": [
      "9069137it [01:37, 93053.43it/s]\n"
     ]
    },
    {
     "name": "stdout",
     "output_type": "stream",
     "text": [
      "Dataframe length: 6984440\n",
      "Now processing: SN89_R1_UCA860_L1\n"
     ]
    },
    {
     "name": "stderr",
     "output_type": "stream",
     "text": [
      "5442648it [00:57, 93924.92it/s]\n"
     ]
    },
    {
     "name": "stdout",
     "output_type": "stream",
     "text": [
      "Dataframe length: 4609688\n",
      "Now processing: SN89_R1_UCA860_L2\n"
     ]
    },
    {
     "name": "stderr",
     "output_type": "stream",
     "text": [
      "5462779it [00:58, 93861.92it/s]\n"
     ]
    },
    {
     "name": "stdout",
     "output_type": "stream",
     "text": [
      "Dataframe length: 4646767\n",
      "Now processing: SN89_R2_UCA860_L1\n"
     ]
    },
    {
     "name": "stderr",
     "output_type": "stream",
     "text": [
      "5715432it [00:57, 99377.49it/s] \n"
     ]
    },
    {
     "name": "stdout",
     "output_type": "stream",
     "text": [
      "Dataframe length: 3160306\n",
      "Now processing: SN89_R2_UCA860_L2\n"
     ]
    },
    {
     "name": "stderr",
     "output_type": "stream",
     "text": [
      "5755300it [00:57, 99546.57it/s] \n"
     ]
    },
    {
     "name": "stdout",
     "output_type": "stream",
     "text": [
      "Dataframe length: 3192506\n",
      "Now processing: SN89_R1_CH65_L1\n"
     ]
    },
    {
     "name": "stderr",
     "output_type": "stream",
     "text": [
      "4748761it [00:51, 92480.87it/s]\n"
     ]
    },
    {
     "name": "stdout",
     "output_type": "stream",
     "text": [
      "Dataframe length: 3667962\n",
      "Now processing: SN89_R1_CH65_L2\n"
     ]
    },
    {
     "name": "stderr",
     "output_type": "stream",
     "text": [
      "4789123it [00:51, 92605.18it/s]\n"
     ]
    },
    {
     "name": "stdout",
     "output_type": "stream",
     "text": [
      "Dataframe length: 3711900\n",
      "Now processing: SN89_R2_CH65_L1\n"
     ]
    },
    {
     "name": "stderr",
     "output_type": "stream",
     "text": [
      "4740220it [00:51, 91663.75it/s]\n"
     ]
    },
    {
     "name": "stdout",
     "output_type": "stream",
     "text": [
      "Dataframe length: 3797294\n",
      "Now processing: SN89_R2_CH65_L2\n"
     ]
    },
    {
     "name": "stderr",
     "output_type": "stream",
     "text": [
      "4758066it [00:52, 90942.08it/s]\n"
     ]
    },
    {
     "name": "stdout",
     "output_type": "stream",
     "text": [
      "Dataframe length: 3826919\n",
      "Now processing: SI06_R1_CH65_L1\n"
     ]
    },
    {
     "name": "stderr",
     "output_type": "stream",
     "text": [
      "5774210it [01:01, 94361.70it/s]\n"
     ]
    },
    {
     "name": "stdout",
     "output_type": "stream",
     "text": [
      "Dataframe length: 4848301\n",
      "Now processing: SI06_R1_CH65_L2\n"
     ]
    },
    {
     "name": "stderr",
     "output_type": "stream",
     "text": [
      "5806877it [01:01, 94625.91it/s]\n"
     ]
    },
    {
     "name": "stdout",
     "output_type": "stream",
     "text": [
      "Dataframe length: 4896494\n",
      "Now processing: SI06_R2_CH65_L1\n"
     ]
    },
    {
     "name": "stderr",
     "output_type": "stream",
     "text": [
      "6569161it [01:09, 94161.95it/s]\n"
     ]
    },
    {
     "name": "stdout",
     "output_type": "stream",
     "text": [
      "Dataframe length: 5541981\n",
      "Now processing: SI06_R2_CH65_L2\n"
     ]
    },
    {
     "name": "stderr",
     "output_type": "stream",
     "text": [
      "6625470it [01:10, 94232.17it/s]\n"
     ]
    },
    {
     "name": "stdout",
     "output_type": "stream",
     "text": [
      "Dataframe length: 5614149\n",
      "Now processing: SN89_R1_CH65_ND_L1\n"
     ]
    },
    {
     "name": "stderr",
     "output_type": "stream",
     "text": [
      "6002088it [01:04, 93646.00it/s]\n"
     ]
    },
    {
     "name": "stdout",
     "output_type": "stream",
     "text": [
      "Dataframe length: 4890008\n",
      "Now processing: SN89_R1_CH65_ND_L2\n"
     ]
    },
    {
     "name": "stderr",
     "output_type": "stream",
     "text": [
      "6032240it [01:04, 93799.49it/s]\n"
     ]
    },
    {
     "name": "stdout",
     "output_type": "stream",
     "text": [
      "Dataframe length: 4934114\n",
      "Now processing: SN89_R2_CH65_ND_L1\n"
     ]
    },
    {
     "name": "stderr",
     "output_type": "stream",
     "text": [
      "7928128it [01:24, 93513.54it/s]\n"
     ]
    },
    {
     "name": "stdout",
     "output_type": "stream",
     "text": [
      "Dataframe length: 5985016\n",
      "Now processing: SN89_R2_CH65_ND_L2\n"
     ]
    },
    {
     "name": "stderr",
     "output_type": "stream",
     "text": [
      "8005879it [01:25, 93804.71it/s]\n"
     ]
    },
    {
     "name": "stdout",
     "output_type": "stream",
     "text": [
      "Dataframe length: 6066835\n",
      "Now processing: SN89_R1_UCA652_L1\n"
     ]
    },
    {
     "name": "stderr",
     "output_type": "stream",
     "text": [
      "5454224it [00:57, 94209.85it/s]\n"
     ]
    },
    {
     "name": "stdout",
     "output_type": "stream",
     "text": [
      "Dataframe length: 4673963\n",
      "Now processing: SN89_R1_UCA652_L2\n"
     ]
    },
    {
     "name": "stderr",
     "output_type": "stream",
     "text": [
      "5482993it [00:58, 94236.64it/s]\n"
     ]
    },
    {
     "name": "stdout",
     "output_type": "stream",
     "text": [
      "Dataframe length: 4720381\n",
      "Now processing: SN89_R2_UCA652_L1\n"
     ]
    },
    {
     "name": "stderr",
     "output_type": "stream",
     "text": [
      "5646721it [00:56, 99308.95it/s] \n"
     ]
    },
    {
     "name": "stdout",
     "output_type": "stream",
     "text": [
      "Dataframe length: 3125693\n",
      "Now processing: SN89_R2_UCA652_L2\n"
     ]
    },
    {
     "name": "stderr",
     "output_type": "stream",
     "text": [
      "5679184it [00:57, 99395.82it/s] \n"
     ]
    },
    {
     "name": "stdout",
     "output_type": "stream",
     "text": [
      "Dataframe length: 3159988\n",
      "Now processing: SN89_R1_H2227_L1\n"
     ]
    },
    {
     "name": "stderr",
     "output_type": "stream",
     "text": [
      "5145290it [00:55, 93183.85it/s]\n"
     ]
    },
    {
     "name": "stdout",
     "output_type": "stream",
     "text": [
      "Dataframe length: 3964065\n",
      "Now processing: SN89_R1_H2227_L2\n"
     ]
    },
    {
     "name": "stderr",
     "output_type": "stream",
     "text": [
      "5165928it [00:55, 93121.64it/s]\n"
     ]
    },
    {
     "name": "stdout",
     "output_type": "stream",
     "text": [
      "Dataframe length: 3995238\n",
      "Now processing: SN89_R2_H2227_L1\n"
     ]
    },
    {
     "name": "stderr",
     "output_type": "stream",
     "text": [
      "8621236it [01:33, 92329.04it/s]\n"
     ]
    },
    {
     "name": "stdout",
     "output_type": "stream",
     "text": [
      "Dataframe length: 6469882\n",
      "Now processing: SN89_R2_H2227_L2\n"
     ]
    },
    {
     "name": "stderr",
     "output_type": "stream",
     "text": [
      "8663115it [01:33, 92348.90it/s]\n"
     ]
    },
    {
     "name": "stdout",
     "output_type": "stream",
     "text": [
      "Dataframe length: 6532213\n",
      "Now processing: SI06_R1_H2227_L1\n"
     ]
    },
    {
     "name": "stderr",
     "output_type": "stream",
     "text": [
      "7652160it [01:20, 94729.61it/s]\n"
     ]
    },
    {
     "name": "stdout",
     "output_type": "stream",
     "text": [
      "Dataframe length: 6362185\n",
      "Now processing: SI06_R1_H2227_L2\n"
     ]
    },
    {
     "name": "stderr",
     "output_type": "stream",
     "text": [
      "7696773it [01:22, 93468.78it/s]\n"
     ]
    },
    {
     "name": "stdout",
     "output_type": "stream",
     "text": [
      "Dataframe length: 6428090\n",
      "Now processing: SI06_R2_H2227_L1\n"
     ]
    },
    {
     "name": "stderr",
     "output_type": "stream",
     "text": [
      "4748896it [00:50, 93545.33it/s]\n"
     ]
    },
    {
     "name": "stdout",
     "output_type": "stream",
     "text": [
      "Dataframe length: 4064486\n",
      "Now processing: SI06_R2_H2227_L2\n"
     ]
    },
    {
     "name": "stderr",
     "output_type": "stream",
     "text": [
      "4762824it [00:50, 93894.30it/s]\n"
     ]
    },
    {
     "name": "stdout",
     "output_type": "stream",
     "text": [
      "Dataframe length: 4096242\n",
      "Now processing: SN89_R1_H1244_L1\n"
     ]
    },
    {
     "name": "stderr",
     "output_type": "stream",
     "text": [
      "5281896it [00:56, 93571.83it/s]\n"
     ]
    },
    {
     "name": "stdout",
     "output_type": "stream",
     "text": [
      "Dataframe length: 4316676\n",
      "Now processing: SN89_R1_H1244_L2\n"
     ]
    },
    {
     "name": "stderr",
     "output_type": "stream",
     "text": [
      "5292322it [00:56, 93182.10it/s]\n"
     ]
    },
    {
     "name": "stdout",
     "output_type": "stream",
     "text": [
      "Dataframe length: 4342251\n",
      "Now processing: SN89_R2_H1244_L1\n"
     ]
    },
    {
     "name": "stderr",
     "output_type": "stream",
     "text": [
      "5667215it [01:01, 92247.46it/s]\n"
     ]
    },
    {
     "name": "stdout",
     "output_type": "stream",
     "text": [
      "Dataframe length: 4605143\n",
      "Now processing: SN89_R2_H1244_L2\n"
     ]
    },
    {
     "name": "stderr",
     "output_type": "stream",
     "text": [
      "5727304it [01:01, 93223.85it/s]\n"
     ]
    },
    {
     "name": "stdout",
     "output_type": "stream",
     "text": [
      "Dataframe length: 4668405\n",
      "Now processing: SI06_R1_H1244_L1\n"
     ]
    },
    {
     "name": "stderr",
     "output_type": "stream",
     "text": [
      "5320321it [00:57, 93295.27it/s]\n"
     ]
    },
    {
     "name": "stdout",
     "output_type": "stream",
     "text": [
      "Dataframe length: 4327863\n",
      "Now processing: SI06_R1_H1244_L2\n"
     ]
    },
    {
     "name": "stderr",
     "output_type": "stream",
     "text": [
      "5403818it [00:57, 93364.48it/s]\n"
     ]
    },
    {
     "name": "stdout",
     "output_type": "stream",
     "text": [
      "Dataframe length: 4408766\n",
      "Now processing: SI06_R2_H1244_L1\n"
     ]
    },
    {
     "name": "stderr",
     "output_type": "stream",
     "text": [
      "6715780it [01:08, 98269.94it/s] \n"
     ]
    },
    {
     "name": "stdout",
     "output_type": "stream",
     "text": [
      "Dataframe length: 3013484\n",
      "Now processing: SI06_R2_H1244_L2\n"
     ]
    },
    {
     "name": "stderr",
     "output_type": "stream",
     "text": [
      "6750315it [01:08, 98702.16it/s] \n"
     ]
    },
    {
     "name": "stdout",
     "output_type": "stream",
     "text": [
      "Dataframe length: 3038971\n",
      "Now processing: SN89_R1_H1825_L1\n"
     ]
    },
    {
     "name": "stderr",
     "output_type": "stream",
     "text": [
      "4073207it [00:44, 92117.05it/s]\n"
     ]
    },
    {
     "name": "stdout",
     "output_type": "stream",
     "text": [
      "Dataframe length: 3368124\n",
      "Now processing: SN89_R1_H1825_L2\n"
     ]
    },
    {
     "name": "stderr",
     "output_type": "stream",
     "text": [
      "4086150it [00:44, 92420.01it/s]\n"
     ]
    },
    {
     "name": "stdout",
     "output_type": "stream",
     "text": [
      "Dataframe length: 3393208\n",
      "Now processing: SN89_R2_H1825_L1\n"
     ]
    },
    {
     "name": "stderr",
     "output_type": "stream",
     "text": [
      "5396632it [00:59, 89951.46it/s]\n"
     ]
    },
    {
     "name": "stdout",
     "output_type": "stream",
     "text": [
      "Dataframe length: 4363013\n",
      "Now processing: SN89_R2_H1825_L2\n"
     ]
    },
    {
     "name": "stderr",
     "output_type": "stream",
     "text": [
      "5436393it [01:00, 89833.06it/s]\n"
     ]
    },
    {
     "name": "stdout",
     "output_type": "stream",
     "text": [
      "Dataframe length: 4413163\n",
      "Now processing: SN89_R1_H679_L1\n"
     ]
    },
    {
     "name": "stderr",
     "output_type": "stream",
     "text": [
      "5316978it [00:58, 91443.42it/s]\n"
     ]
    },
    {
     "name": "stdout",
     "output_type": "stream",
     "text": [
      "Dataframe length: 4257276\n",
      "Now processing: SN89_R1_H679_L2\n"
     ]
    },
    {
     "name": "stderr",
     "output_type": "stream",
     "text": [
      "5361757it [00:58, 90999.43it/s]\n"
     ]
    },
    {
     "name": "stdout",
     "output_type": "stream",
     "text": [
      "Dataframe length: 4307507\n",
      "Now processing: SN89_R2_H679_L1\n"
     ]
    },
    {
     "name": "stderr",
     "output_type": "stream",
     "text": [
      "5208836it [00:56, 92409.37it/s]\n"
     ]
    },
    {
     "name": "stdout",
     "output_type": "stream",
     "text": [
      "Dataframe length: 4347551\n",
      "Now processing: SN89_R2_H679_L2\n"
     ]
    },
    {
     "name": "stderr",
     "output_type": "stream",
     "text": [
      "5248074it [00:55, 94084.25it/s]\n"
     ]
    },
    {
     "name": "stdout",
     "output_type": "stream",
     "text": [
      "Dataframe length: 4396869\n",
      "Now processing: SN89_R1_UCA641_L1\n"
     ]
    },
    {
     "name": "stderr",
     "output_type": "stream",
     "text": [
      "5312491it [00:57, 92630.10it/s]\n"
     ]
    },
    {
     "name": "stdout",
     "output_type": "stream",
     "text": [
      "Dataframe length: 3704659\n",
      "Now processing: SN89_R1_UCA641_L2\n"
     ]
    },
    {
     "name": "stderr",
     "output_type": "stream",
     "text": [
      "5352838it [00:58, 92287.92it/s]\n"
     ]
    },
    {
     "name": "stdout",
     "output_type": "stream",
     "text": [
      "Dataframe length: 3739609\n",
      "Now processing: SN89_R2_UCA641_L1\n"
     ]
    },
    {
     "name": "stderr",
     "output_type": "stream",
     "text": [
      "5533990it [00:59, 92441.00it/s]\n"
     ]
    },
    {
     "name": "stdout",
     "output_type": "stream",
     "text": [
      "Dataframe length: 4431491\n",
      "Now processing: SN89_R2_UCA641_L2\n"
     ]
    },
    {
     "name": "stderr",
     "output_type": "stream",
     "text": [
      "5573219it [01:00, 92623.17it/s]\n"
     ]
    },
    {
     "name": "stdout",
     "output_type": "stream",
     "text": [
      "Dataframe length: 4480400\n",
      "Now processing: SN89_R1_H1270_L1\n"
     ]
    },
    {
     "name": "stderr",
     "output_type": "stream",
     "text": [
      "6109262it [01:05, 93069.89it/s]\n"
     ]
    },
    {
     "name": "stdout",
     "output_type": "stream",
     "text": [
      "Dataframe length: 5043337\n",
      "Now processing: SN89_R1_H1270_L2\n"
     ]
    },
    {
     "name": "stderr",
     "output_type": "stream",
     "text": [
      "6180978it [01:06, 93592.12it/s]\n"
     ]
    },
    {
     "name": "stdout",
     "output_type": "stream",
     "text": [
      "Dataframe length: 5122235\n",
      "Now processing: SN89_R2_H1270_L1\n"
     ]
    },
    {
     "name": "stderr",
     "output_type": "stream",
     "text": [
      "4945759it [00:50, 98683.60it/s] \n"
     ]
    },
    {
     "name": "stdout",
     "output_type": "stream",
     "text": [
      "Dataframe length: 2626099\n",
      "Now processing: SN89_R2_H1270_L2\n"
     ]
    },
    {
     "name": "stderr",
     "output_type": "stream",
     "text": [
      "4968712it [00:50, 98851.58it/s] \n"
     ]
    },
    {
     "name": "stdout",
     "output_type": "stream",
     "text": [
      "Dataframe length: 2646613\n",
      "Now processing: SN89_R1_H1261_L1\n"
     ]
    },
    {
     "name": "stderr",
     "output_type": "stream",
     "text": [
      "5888334it [01:04, 91316.44it/s]\n"
     ]
    },
    {
     "name": "stdout",
     "output_type": "stream",
     "text": [
      "Dataframe length: 4601215\n",
      "Now processing: SN89_R1_H1261_L2\n"
     ]
    },
    {
     "name": "stderr",
     "output_type": "stream",
     "text": [
      "5951506it [01:04, 92405.76it/s]\n"
     ]
    },
    {
     "name": "stdout",
     "output_type": "stream",
     "text": [
      "Dataframe length: 4665157\n",
      "Now processing: SN89_R2_H1261_L1\n"
     ]
    },
    {
     "name": "stderr",
     "output_type": "stream",
     "text": [
      "5713722it [01:02, 91088.67it/s]\n"
     ]
    },
    {
     "name": "stdout",
     "output_type": "stream",
     "text": [
      "Dataframe length: 4758045\n",
      "Now processing: SN89_R2_H1261_L2\n"
     ]
    },
    {
     "name": "stderr",
     "output_type": "stream",
     "text": [
      "5744285it [01:02, 91231.07it/s]\n"
     ]
    },
    {
     "name": "stdout",
     "output_type": "stream",
     "text": [
      "Dataframe length: 4803573\n",
      "Now processing: USSR77_R1_Ab6649_L1\n"
     ]
    },
    {
     "name": "stderr",
     "output_type": "stream",
     "text": [
      "6252200it [01:06, 93399.38it/s]\n"
     ]
    },
    {
     "name": "stdout",
     "output_type": "stream",
     "text": [
      "Dataframe length: 5058695\n",
      "Now processing: USSR77_R1_Ab6649_L2\n"
     ]
    },
    {
     "name": "stderr",
     "output_type": "stream",
     "text": [
      "6288389it [01:07, 93482.80it/s]\n"
     ]
    },
    {
     "name": "stdout",
     "output_type": "stream",
     "text": [
      "Dataframe length: 5109486\n",
      "Now processing: USSR77_R2_Ab6649_L1\n"
     ]
    },
    {
     "name": "stderr",
     "output_type": "stream",
     "text": [
      "7733540it [01:22, 93452.80it/s]\n"
     ]
    },
    {
     "name": "stdout",
     "output_type": "stream",
     "text": [
      "Dataframe length: 6161003\n",
      "Now processing: USSR77_R2_Ab6649_L2\n"
     ]
    },
    {
     "name": "stderr",
     "output_type": "stream",
     "text": [
      "7756393it [01:22, 93544.87it/s]\n"
     ]
    },
    {
     "name": "stdout",
     "output_type": "stream",
     "text": [
      "Dataframe length: 6204357\n",
      "Now processing: SN89_R1_Ab6649_L1\n"
     ]
    },
    {
     "name": "stderr",
     "output_type": "stream",
     "text": [
      "5719740it [01:01, 92685.44it/s]\n"
     ]
    },
    {
     "name": "stdout",
     "output_type": "stream",
     "text": [
      "Dataframe length: 4339359\n",
      "Now processing: SN89_R1_Ab6649_L2\n"
     ]
    },
    {
     "name": "stderr",
     "output_type": "stream",
     "text": [
      "5758962it [01:02, 92344.71it/s]\n"
     ]
    },
    {
     "name": "stdout",
     "output_type": "stream",
     "text": [
      "Dataframe length: 4382908\n",
      "Now processing: SN89_R2_Ab6649_L1\n"
     ]
    },
    {
     "name": "stderr",
     "output_type": "stream",
     "text": [
      "13286368it [02:23, 92334.94it/s]\n"
     ]
    },
    {
     "name": "stdout",
     "output_type": "stream",
     "text": [
      "Dataframe length: 10605744\n",
      "Now processing: SN89_R2_Ab6649_L2\n"
     ]
    },
    {
     "name": "stderr",
     "output_type": "stream",
     "text": [
      "13414151it [02:26, 91629.30it/s]\n"
     ]
    },
    {
     "name": "stdout",
     "output_type": "stream",
     "text": [
      "Dataframe length: 10734577\n",
      "Now processing: SI06_R1_Ab6649_L1\n"
     ]
    },
    {
     "name": "stderr",
     "output_type": "stream",
     "text": [
      "3371733it [00:35, 93704.64it/s]\n"
     ]
    },
    {
     "name": "stdout",
     "output_type": "stream",
     "text": [
      "Dataframe length: 2849700\n",
      "Now processing: SI06_R1_Ab6649_L2\n"
     ]
    },
    {
     "name": "stderr",
     "output_type": "stream",
     "text": [
      "3381691it [00:35, 94262.85it/s]\n"
     ]
    },
    {
     "name": "stdout",
     "output_type": "stream",
     "text": [
      "Dataframe length: 2873501\n",
      "Now processing: SI06_R2_Ab6649_L1\n"
     ]
    },
    {
     "name": "stderr",
     "output_type": "stream",
     "text": [
      "4823524it [00:48, 99413.38it/s] \n"
     ]
    },
    {
     "name": "stdout",
     "output_type": "stream",
     "text": [
      "Dataframe length: 2528762\n",
      "Now processing: SI06_R2_Ab6649_L2\n"
     ]
    },
    {
     "name": "stderr",
     "output_type": "stream",
     "text": [
      "4858615it [00:49, 98735.66it/s] \n"
     ]
    },
    {
     "name": "stdout",
     "output_type": "stream",
     "text": [
      "Dataframe length: 2558441\n",
      "Now processing: USSR77_R1_Ab9207_L1\n"
     ]
    },
    {
     "name": "stderr",
     "output_type": "stream",
     "text": [
      "6974673it [01:15, 92714.22it/s]\n"
     ]
    },
    {
     "name": "stdout",
     "output_type": "stream",
     "text": [
      "Dataframe length: 5404596\n",
      "Now processing: USSR77_R1_Ab9207_L2\n"
     ]
    },
    {
     "name": "stderr",
     "output_type": "stream",
     "text": [
      "6994344it [01:15, 92601.78it/s]\n"
     ]
    },
    {
     "name": "stdout",
     "output_type": "stream",
     "text": [
      "Dataframe length: 5450164\n",
      "Now processing: USSR77_R2_Ab9207_L1\n"
     ]
    },
    {
     "name": "stderr",
     "output_type": "stream",
     "text": [
      "5538338it [01:01, 90619.82it/s]\n"
     ]
    },
    {
     "name": "stdout",
     "output_type": "stream",
     "text": [
      "Dataframe length: 4498920\n",
      "Now processing: USSR77_R2_Ab9207_L2\n"
     ]
    },
    {
     "name": "stderr",
     "output_type": "stream",
     "text": [
      "5572271it [01:00, 91557.48it/s]\n"
     ]
    },
    {
     "name": "stdout",
     "output_type": "stream",
     "text": [
      "Dataframe length: 4547724\n",
      "Now processing: SN89_R1_Ab9207_L1\n"
     ]
    },
    {
     "name": "stderr",
     "output_type": "stream",
     "text": [
      "5275843it [00:56, 92759.80it/s]\n"
     ]
    },
    {
     "name": "stdout",
     "output_type": "stream",
     "text": [
      "Dataframe length: 4227281\n",
      "Now processing: SN89_R1_Ab9207_L2\n"
     ]
    },
    {
     "name": "stderr",
     "output_type": "stream",
     "text": [
      "5305958it [00:57, 92805.70it/s]\n"
     ]
    },
    {
     "name": "stdout",
     "output_type": "stream",
     "text": [
      "Dataframe length: 4265773\n",
      "Now processing: SN89_R2_Ab9207_L1\n"
     ]
    },
    {
     "name": "stderr",
     "output_type": "stream",
     "text": [
      "7089440it [01:16, 92084.11it/s]\n"
     ]
    },
    {
     "name": "stdout",
     "output_type": "stream",
     "text": [
      "Dataframe length: 5519223\n",
      "Now processing: SN89_R2_Ab9207_L2\n"
     ]
    },
    {
     "name": "stderr",
     "output_type": "stream",
     "text": [
      "7124155it [01:17, 92051.47it/s]\n"
     ]
    },
    {
     "name": "stdout",
     "output_type": "stream",
     "text": [
      "Dataframe length: 5569811\n",
      "Now processing: USSR77_R1_ADI-77474_L1\n"
     ]
    },
    {
     "name": "stderr",
     "output_type": "stream",
     "text": [
      "5592721it [01:00, 92315.56it/s]\n"
     ]
    },
    {
     "name": "stdout",
     "output_type": "stream",
     "text": [
      "Dataframe length: 4639083\n",
      "Now processing: USSR77_R1_ADI-77474_L2\n"
     ]
    },
    {
     "name": "stderr",
     "output_type": "stream",
     "text": [
      "5628022it [01:00, 92527.44it/s]\n"
     ]
    },
    {
     "name": "stdout",
     "output_type": "stream",
     "text": [
      "Dataframe length: 4684028\n",
      "Now processing: USSR77_R2_ADI-77474_L1\n"
     ]
    },
    {
     "name": "stderr",
     "output_type": "stream",
     "text": [
      "5788575it [01:02, 92955.58it/s]\n"
     ]
    },
    {
     "name": "stdout",
     "output_type": "stream",
     "text": [
      "Dataframe length: 4630945\n",
      "Now processing: USSR77_R2_ADI-77474_L2\n"
     ]
    },
    {
     "name": "stderr",
     "output_type": "stream",
     "text": [
      "5824113it [01:02, 93089.33it/s]\n"
     ]
    },
    {
     "name": "stdout",
     "output_type": "stream",
     "text": [
      "Dataframe length: 4684412\n",
      "Now processing: SN89_R1_ADI-77474_L1\n"
     ]
    },
    {
     "name": "stderr",
     "output_type": "stream",
     "text": [
      "4071592it [00:42, 95956.04it/s]\n"
     ]
    },
    {
     "name": "stdout",
     "output_type": "stream",
     "text": [
      "Dataframe length: 3494844\n",
      "Now processing: SN89_R1_ADI-77474_L2\n"
     ]
    },
    {
     "name": "stderr",
     "output_type": "stream",
     "text": [
      "4097011it [00:43, 95222.25it/s]\n"
     ]
    },
    {
     "name": "stdout",
     "output_type": "stream",
     "text": [
      "Dataframe length: 3534365\n",
      "Now processing: SN89_R2_ADI-77474_L1\n"
     ]
    },
    {
     "name": "stderr",
     "output_type": "stream",
     "text": [
      "6336946it [01:03, 100451.05it/s]\n"
     ]
    },
    {
     "name": "stdout",
     "output_type": "stream",
     "text": [
      "Dataframe length: 3434296\n",
      "Now processing: SN89_R2_ADI-77474_L2\n"
     ]
    },
    {
     "name": "stderr",
     "output_type": "stream",
     "text": [
      "6370496it [01:03, 99997.22it/s] \n"
     ]
    },
    {
     "name": "stdout",
     "output_type": "stream",
     "text": [
      "Dataframe length: 3469086\n",
      "Now processing: SI06_R1_ADI-77474_L1\n"
     ]
    },
    {
     "name": "stderr",
     "output_type": "stream",
     "text": [
      "5882002it [01:02, 93438.48it/s]\n"
     ]
    },
    {
     "name": "stdout",
     "output_type": "stream",
     "text": [
      "Dataframe length: 4860966\n",
      "Now processing: SI06_R1_ADI-77474_L2\n"
     ]
    },
    {
     "name": "stderr",
     "output_type": "stream",
     "text": [
      "5900433it [01:02, 94297.27it/s]\n"
     ]
    },
    {
     "name": "stdout",
     "output_type": "stream",
     "text": [
      "Dataframe length: 4898020\n",
      "Now processing: SI06_R2_ADI-77474_L1\n"
     ]
    },
    {
     "name": "stderr",
     "output_type": "stream",
     "text": [
      "5887700it [01:03, 93067.44it/s]\n"
     ]
    },
    {
     "name": "stdout",
     "output_type": "stream",
     "text": [
      "Dataframe length: 4902028\n",
      "Now processing: SI06_R2_ADI-77474_L2\n"
     ]
    },
    {
     "name": "stderr",
     "output_type": "stream",
     "text": [
      "5927930it [01:03, 93757.42it/s]\n"
     ]
    },
    {
     "name": "stdout",
     "output_type": "stream",
     "text": [
      "Dataframe length: 4960927\n",
      "Now processing: SYD21_R1_ADI-77474_L1\n"
     ]
    },
    {
     "name": "stderr",
     "output_type": "stream",
     "text": [
      "7954015it [01:21, 97980.56it/s] \n"
     ]
    },
    {
     "name": "stdout",
     "output_type": "stream",
     "text": [
      "Dataframe length: 5884302\n",
      "Now processing: SYD21_R1_ADI-77474_L2\n"
     ]
    },
    {
     "name": "stderr",
     "output_type": "stream",
     "text": [
      "7988882it [01:21, 98055.24it/s] \n"
     ]
    },
    {
     "name": "stdout",
     "output_type": "stream",
     "text": [
      "Dataframe length: 5931639\n",
      "Now processing: SYD21_R2_ADI-77474_L1\n"
     ]
    },
    {
     "name": "stderr",
     "output_type": "stream",
     "text": [
      "6341754it [01:06, 94916.41it/s]\n"
     ]
    },
    {
     "name": "stdout",
     "output_type": "stream",
     "text": [
      "Dataframe length: 5104510\n",
      "Now processing: SYD21_R2_ADI-77474_L2\n"
     ]
    },
    {
     "name": "stderr",
     "output_type": "stream",
     "text": [
      "6369081it [01:07, 93992.53it/s]\n"
     ]
    },
    {
     "name": "stdout",
     "output_type": "stream",
     "text": [
      "Dataframe length: 5145593\n",
      "Now processing: USSR77_R1_ADI-77470_L1\n"
     ]
    },
    {
     "name": "stderr",
     "output_type": "stream",
     "text": [
      "6570478it [01:09, 94249.84it/s]\n"
     ]
    },
    {
     "name": "stdout",
     "output_type": "stream",
     "text": [
      "Dataframe length: 5585965\n",
      "Now processing: USSR77_R1_ADI-77470_L2\n"
     ]
    },
    {
     "name": "stderr",
     "output_type": "stream",
     "text": [
      "6596832it [01:09, 94497.66it/s]\n"
     ]
    },
    {
     "name": "stdout",
     "output_type": "stream",
     "text": [
      "Dataframe length: 5632156\n",
      "Now processing: USSR77_R2_ADI-77470_L1\n"
     ]
    },
    {
     "name": "stderr",
     "output_type": "stream",
     "text": [
      "5672853it [00:59, 94738.23it/s]\n"
     ]
    },
    {
     "name": "stdout",
     "output_type": "stream",
     "text": [
      "Dataframe length: 4632751\n",
      "Now processing: USSR77_R2_ADI-77470_L2\n"
     ]
    },
    {
     "name": "stderr",
     "output_type": "stream",
     "text": [
      "5735511it [01:00, 94809.41it/s]\n"
     ]
    },
    {
     "name": "stdout",
     "output_type": "stream",
     "text": [
      "Dataframe length: 4700675\n",
      "Now processing: SN89_R1_ADI-77470_L1\n"
     ]
    },
    {
     "name": "stderr",
     "output_type": "stream",
     "text": [
      "5423316it [00:57, 95068.33it/s]\n"
     ]
    },
    {
     "name": "stdout",
     "output_type": "stream",
     "text": [
      "Dataframe length: 4646973\n",
      "Now processing: SN89_R1_ADI-77470_L2\n"
     ]
    },
    {
     "name": "stderr",
     "output_type": "stream",
     "text": [
      "5478454it [00:57, 95017.00it/s]\n"
     ]
    },
    {
     "name": "stdout",
     "output_type": "stream",
     "text": [
      "Dataframe length: 4712159\n",
      "Now processing: SN89_R2_ADI-77470_L1\n"
     ]
    },
    {
     "name": "stderr",
     "output_type": "stream",
     "text": [
      "4614421it [00:45, 100576.83it/s]\n"
     ]
    },
    {
     "name": "stdout",
     "output_type": "stream",
     "text": [
      "Dataframe length: 2798114\n",
      "Now processing: SN89_R2_ADI-77470_L2\n"
     ]
    },
    {
     "name": "stderr",
     "output_type": "stream",
     "text": [
      "4466699it [00:44, 99729.76it/s] \n"
     ]
    },
    {
     "name": "stdout",
     "output_type": "stream",
     "text": [
      "Dataframe length: 2724464\n",
      "Now processing: SI06_R1_ADI-77470_L1\n"
     ]
    },
    {
     "name": "stderr",
     "output_type": "stream",
     "text": [
      "5751655it [01:01, 93532.95it/s]\n"
     ]
    },
    {
     "name": "stdout",
     "output_type": "stream",
     "text": [
      "Dataframe length: 4909301\n",
      "Now processing: SI06_R1_ADI-77470_L2\n"
     ]
    },
    {
     "name": "stderr",
     "output_type": "stream",
     "text": [
      "5896131it [01:02, 93675.15it/s]\n"
     ]
    },
    {
     "name": "stdout",
     "output_type": "stream",
     "text": [
      "Dataframe length: 5043447\n",
      "Now processing: SI06_R2_ADI-77470_L1\n"
     ]
    },
    {
     "name": "stderr",
     "output_type": "stream",
     "text": [
      "5839859it [01:02, 93306.28it/s]\n"
     ]
    },
    {
     "name": "stdout",
     "output_type": "stream",
     "text": [
      "Dataframe length: 4761358\n",
      "Now processing: SI06_R2_ADI-77470_L2\n"
     ]
    },
    {
     "name": "stderr",
     "output_type": "stream",
     "text": [
      "5896883it [01:03, 92841.40it/s]\n"
     ]
    },
    {
     "name": "stdout",
     "output_type": "stream",
     "text": [
      "Dataframe length: 4823373\n",
      "Now processing: SYD21_R1_ADI-77470_L1\n"
     ]
    },
    {
     "name": "stderr",
     "output_type": "stream",
     "text": [
      "8267071it [01:26, 95287.31it/s]\n"
     ]
    },
    {
     "name": "stdout",
     "output_type": "stream",
     "text": [
      "Dataframe length: 6832979\n",
      "Now processing: SYD21_R1_ADI-77470_L2\n"
     ]
    },
    {
     "name": "stderr",
     "output_type": "stream",
     "text": [
      "8315856it [01:26, 95677.23it/s]\n"
     ]
    },
    {
     "name": "stdout",
     "output_type": "stream",
     "text": [
      "Dataframe length: 6902436\n",
      "Now processing: SYD21_R2_ADI-77470_L1\n"
     ]
    },
    {
     "name": "stderr",
     "output_type": "stream",
     "text": [
      "5748929it [01:00, 95049.25it/s]\n"
     ]
    },
    {
     "name": "stdout",
     "output_type": "stream",
     "text": [
      "Dataframe length: 4905826\n",
      "Now processing: SYD21_R2_ADI-77470_L2\n"
     ]
    },
    {
     "name": "stderr",
     "output_type": "stream",
     "text": [
      "5771594it [01:00, 95320.72it/s]\n"
     ]
    },
    {
     "name": "stdout",
     "output_type": "stream",
     "text": [
      "Dataframe length: 4944541\n",
      "Now processing: SYD21_R1_ADI-86325_L1\n"
     ]
    },
    {
     "name": "stderr",
     "output_type": "stream",
     "text": [
      "7947295it [01:24, 94474.73it/s]\n"
     ]
    },
    {
     "name": "stdout",
     "output_type": "stream",
     "text": [
      "Dataframe length: 6345235\n",
      "Now processing: SYD21_R1_ADI-86325_L2\n"
     ]
    },
    {
     "name": "stderr",
     "output_type": "stream",
     "text": [
      "7996145it [01:24, 94403.06it/s]\n"
     ]
    },
    {
     "name": "stdout",
     "output_type": "stream",
     "text": [
      "Dataframe length: 6416084\n",
      "Now processing: SYD21_R2_ADI-86325_L1\n"
     ]
    },
    {
     "name": "stderr",
     "output_type": "stream",
     "text": [
      "4647522it [00:49, 93800.52it/s]\n"
     ]
    },
    {
     "name": "stdout",
     "output_type": "stream",
     "text": [
      "Dataframe length: 3906486\n",
      "Now processing: SYD21_R2_ADI-86325_L2\n"
     ]
    },
    {
     "name": "stderr",
     "output_type": "stream",
     "text": [
      "4664855it [00:49, 93551.79it/s]\n"
     ]
    },
    {
     "name": "stdout",
     "output_type": "stream",
     "text": [
      "Dataframe length: 3941819\n"
     ]
    }
   ],
   "source": [
    "# for each sample, extract barcode and output with the number of counts based on umis\n",
    "flanks=['AGCCTCCAGTGTAGGATTTGCATTTAA','TGGTGCTTTTGGTCTCCCTGGGG']\n",
    "\n",
    "for index,row in samples.iterrows():\n",
    "    gc.collect()\n",
    "    sample_name = row['sample_name']\n",
    "    virus_background = row['virus_background']\n",
    "    replicate = row['replicate']\n",
    "    selection = row['selection']\n",
    "    inline_fwd = row['inline_fwd']\n",
    "    inline_rev = row['inline_rev']\n",
    "    inline_rev_rcomp = str(Seq(inline_rev).reverse_complement())\n",
    "    \n",
    "    print(f'Now processing: {sample_name}')\n",
    "    \n",
    "    required_length = 78 + 16 + len(inline_fwd) + len(inline_rev)\n",
    "    barcode_umi_counts = dict()\n",
    "    for record in tqdm.tqdm(SeqIO.parse(f'data/sequencing_data/pear_output/{sample_name}.assembled.fastq', 'fastq')):\n",
    "        seq_str = str(record.seq)\n",
    "        if len(seq_str) == required_length and 'N' not in seq_str and inline_fwd in seq_str[8:8+len(inline_fwd)] and inline_rev_rcomp in seq_str[-8-len(inline_rev_rcomp):-8]:\n",
    "            UMI_merged = seq_str[:8]+seq_str[-8:]\n",
    "            if flanks[0] in seq_str and flanks[1] in seq_str:\n",
    "                barcode = seq_str.split(flanks[0])[1].split(flanks[1])[0]                   \n",
    "            elif flanks[0] in seq_str and flanks[1] not in seq_str:\n",
    "                barcode = seq_str.split(flanks[0])[1][:28]\n",
    "            elif flanks[0] not in seq_str and flanks[1] in seq_str:\n",
    "                barcode = seq_str.split(flanks[1])[0][-28:]\n",
    "                \n",
    "            barcode_umi_counts.setdefault(barcode, dict())\n",
    "            barcode_umi_counts[barcode].setdefault(UMI_merged, 0)\n",
    "            barcode_umi_counts[barcode][UMI_merged] += 1\n",
    "            \n",
    "    data = {'barcode':[], 'umi':[], 'count':[]}\n",
    "    for barcode, umis in barcode_umi_counts.items():\n",
    "        for umi, count in umis.items():\n",
    "            data['barcode'].append(barcode)\n",
    "            data['umi'].append(umi)\n",
    "            data['count'].append(count)\n",
    "    data = pd.DataFrame(data)\n",
    "    #data['sample_name'] = row['sample_name']\n",
    "    data['sample'] = row['virus_background']+'_'+row['replicate']+'_'+row['selection']\n",
    "    data['virus_background'] = row['virus_background']\n",
    "    data['replicate'] = row['replicate']\n",
    "    data['selection'] = row['selection']\n",
    "    \n",
    "    print(\"Dataframe length:\",len(data))\n",
    "    \n",
    "    data.to_csv(f'data/barcode_umi_counts/{sample_name}_barcodes_umis.csv')"
   ]
  },
  {
   "cell_type": "code",
   "execution_count": 16,
   "id": "322b461b-8ccb-46f8-aa75-f012f2a535b4",
   "metadata": {},
   "outputs": [],
   "source": [
    "#generate sample list\n",
    "sample_list=[]\n",
    "for idx,row in samples.iterrows():\n",
    "    sample=row['sample_name'][:-3]\n",
    "    if sample in sample_list:\n",
    "        continue\n",
    "    if sample not in sample_list:\n",
    "        sample_list.append(sample)"
   ]
  },
  {
   "cell_type": "code",
   "execution_count": 17,
   "id": "8c5c746b-87f5-49e6-856d-9bfff9158bc3",
   "metadata": {},
   "outputs": [
    {
     "name": "stderr",
     "output_type": "stream",
     "text": [
      "100%|██████████| 64/64 [16:55<00:00, 15.87s/it]\n"
     ]
    },
    {
     "data": {
      "text/html": [
       "<div>\n",
       "<style scoped>\n",
       "    .dataframe tbody tr th:only-of-type {\n",
       "        vertical-align: middle;\n",
       "    }\n",
       "\n",
       "    .dataframe tbody tr th {\n",
       "        vertical-align: top;\n",
       "    }\n",
       "\n",
       "    .dataframe thead th {\n",
       "        text-align: right;\n",
       "    }\n",
       "</style>\n",
       "<table border=\"1\" class=\"dataframe\">\n",
       "  <thead>\n",
       "    <tr style=\"text-align: right;\">\n",
       "      <th></th>\n",
       "      <th>virus_background</th>\n",
       "      <th>replicate</th>\n",
       "      <th>selection</th>\n",
       "      <th>sample</th>\n",
       "      <th>barcode</th>\n",
       "      <th>bc_count</th>\n",
       "    </tr>\n",
       "  </thead>\n",
       "  <tbody>\n",
       "    <tr>\n",
       "      <th>0</th>\n",
       "      <td>USSR77</td>\n",
       "      <td>R1</td>\n",
       "      <td>NoAb</td>\n",
       "      <td>USSR77_R1_NoAb</td>\n",
       "      <td>AAAAAAAGCTCGAGCTTGGCCGTACAGT</td>\n",
       "      <td>3</td>\n",
       "    </tr>\n",
       "    <tr>\n",
       "      <th>1</th>\n",
       "      <td>USSR77</td>\n",
       "      <td>R1</td>\n",
       "      <td>NoAb</td>\n",
       "      <td>USSR77_R1_NoAb</td>\n",
       "      <td>AAAAACGGCGATAGCTGAAAAATTCACG</td>\n",
       "      <td>1</td>\n",
       "    </tr>\n",
       "    <tr>\n",
       "      <th>2</th>\n",
       "      <td>USSR77</td>\n",
       "      <td>R1</td>\n",
       "      <td>NoAb</td>\n",
       "      <td>USSR77_R1_NoAb</td>\n",
       "      <td>AAAACATGCCATAGCTGAAAACGATACT</td>\n",
       "      <td>1</td>\n",
       "    </tr>\n",
       "    <tr>\n",
       "      <th>3</th>\n",
       "      <td>USSR77</td>\n",
       "      <td>R1</td>\n",
       "      <td>NoAb</td>\n",
       "      <td>USSR77_R1_NoAb</td>\n",
       "      <td>ACAAAAAGCTCGAGCTACTGCAGGCGCT</td>\n",
       "      <td>2</td>\n",
       "    </tr>\n",
       "    <tr>\n",
       "      <th>4</th>\n",
       "      <td>USSR77</td>\n",
       "      <td>R1</td>\n",
       "      <td>NoAb</td>\n",
       "      <td>USSR77_R1_NoAb</td>\n",
       "      <td>ACAAAAAGCTCGAGCTATTAACAAGTCC</td>\n",
       "      <td>1</td>\n",
       "    </tr>\n",
       "    <tr>\n",
       "      <th>...</th>\n",
       "      <td>...</td>\n",
       "      <td>...</td>\n",
       "      <td>...</td>\n",
       "      <td>...</td>\n",
       "      <td>...</td>\n",
       "      <td>...</td>\n",
       "    </tr>\n",
       "    <tr>\n",
       "      <th>2755098</th>\n",
       "      <td>SYD21</td>\n",
       "      <td>R2</td>\n",
       "      <td>ADI-86325</td>\n",
       "      <td>SYD21_R2_ADI-86325</td>\n",
       "      <td>TTGTGTTGACATAGCTCCTGATCAGGTC</td>\n",
       "      <td>1</td>\n",
       "    </tr>\n",
       "    <tr>\n",
       "      <th>2755099</th>\n",
       "      <td>SYD21</td>\n",
       "      <td>R2</td>\n",
       "      <td>ADI-86325</td>\n",
       "      <td>SYD21_R2_ADI-86325</td>\n",
       "      <td>TTGTGTTGCTCAAGCTCGAAGTTTAGAG</td>\n",
       "      <td>1</td>\n",
       "    </tr>\n",
       "    <tr>\n",
       "      <th>2755100</th>\n",
       "      <td>SYD21</td>\n",
       "      <td>R2</td>\n",
       "      <td>ADI-86325</td>\n",
       "      <td>SYD21_R2_ADI-86325</td>\n",
       "      <td>TTGTGTTGCTCAAGCTGCGGTTACCGGC</td>\n",
       "      <td>3</td>\n",
       "    </tr>\n",
       "    <tr>\n",
       "      <th>2755101</th>\n",
       "      <td>SYD21</td>\n",
       "      <td>R2</td>\n",
       "      <td>ADI-86325</td>\n",
       "      <td>SYD21_R2_ADI-86325</td>\n",
       "      <td>TTGTGTTGCTCAAGCTGTATGTCGGCTT</td>\n",
       "      <td>1</td>\n",
       "    </tr>\n",
       "    <tr>\n",
       "      <th>2755102</th>\n",
       "      <td>SYD21</td>\n",
       "      <td>R2</td>\n",
       "      <td>ADI-86325</td>\n",
       "      <td>SYD21_R2_ADI-86325</td>\n",
       "      <td>TTTTTAATTCTCAGCTTGACCGGTCTGC</td>\n",
       "      <td>1</td>\n",
       "    </tr>\n",
       "  </tbody>\n",
       "</table>\n",
       "<p>2755103 rows × 6 columns</p>\n",
       "</div>"
      ],
      "text/plain": [
       "        virus_background replicate  selection              sample  \\\n",
       "0                 USSR77        R1       NoAb      USSR77_R1_NoAb   \n",
       "1                 USSR77        R1       NoAb      USSR77_R1_NoAb   \n",
       "2                 USSR77        R1       NoAb      USSR77_R1_NoAb   \n",
       "3                 USSR77        R1       NoAb      USSR77_R1_NoAb   \n",
       "4                 USSR77        R1       NoAb      USSR77_R1_NoAb   \n",
       "...                  ...       ...        ...                 ...   \n",
       "2755098            SYD21        R2  ADI-86325  SYD21_R2_ADI-86325   \n",
       "2755099            SYD21        R2  ADI-86325  SYD21_R2_ADI-86325   \n",
       "2755100            SYD21        R2  ADI-86325  SYD21_R2_ADI-86325   \n",
       "2755101            SYD21        R2  ADI-86325  SYD21_R2_ADI-86325   \n",
       "2755102            SYD21        R2  ADI-86325  SYD21_R2_ADI-86325   \n",
       "\n",
       "                              barcode  bc_count  \n",
       "0        AAAAAAAGCTCGAGCTTGGCCGTACAGT         3  \n",
       "1        AAAAACGGCGATAGCTGAAAAATTCACG         1  \n",
       "2        AAAACATGCCATAGCTGAAAACGATACT         1  \n",
       "3        ACAAAAAGCTCGAGCTACTGCAGGCGCT         2  \n",
       "4        ACAAAAAGCTCGAGCTATTAACAAGTCC         1  \n",
       "...                               ...       ...  \n",
       "2755098  TTGTGTTGACATAGCTCCTGATCAGGTC         1  \n",
       "2755099  TTGTGTTGCTCAAGCTCGAAGTTTAGAG         1  \n",
       "2755100  TTGTGTTGCTCAAGCTGCGGTTACCGGC         3  \n",
       "2755101  TTGTGTTGCTCAAGCTGTATGTCGGCTT         1  \n",
       "2755102  TTTTTAATTCTCAGCTTGACCGGTCTGC         1  \n",
       "\n",
       "[2755103 rows x 6 columns]"
      ]
     },
     "execution_count": 17,
     "metadata": {},
     "output_type": "execute_result"
    }
   ],
   "source": [
    "#for each sample, merge data from both lanes of novaseq sp, and dropping duplicates of the same barcode_umi combination\n",
    "#uncomment elif statements if data with only single lanes is being used\n",
    "\n",
    "all_data_df=pd.DataFrame()\n",
    "\n",
    "for f in tqdm.tqdm(sample_list):\n",
    "    gc.collect()\n",
    "    file_lane1 = f+'_L1_barcodes_umis.csv'\n",
    "    file_lane2 = f+'_L2_barcodes_umis.csv'\n",
    "    \n",
    "    if file_lane1 and file_lane2 in os.listdir('data/barcode_umi_counts'):  \n",
    "        temp_df1 = pd.read_csv(f'data/barcode_umi_counts/{file_lane1}')\n",
    "        temp_df2 = pd.read_csv(f'data/barcode_umi_counts/{file_lane2}')\n",
    "        temp_df = pd.concat([temp_df1,temp_df2])\n",
    "        temp_df['barcode_umi']=temp_df['barcode']+'_'+temp_df['umi']\n",
    "        temp_df = temp_df.drop_duplicates(subset=['barcode_umi','sample'],keep='first')\n",
    "        temp_df['bc_count']=1\n",
    "        temp_df_agg = temp_df.groupby(['virus_background','replicate','selection','sample','barcode']).agg({'bc_count':'sum'}).reset_index()\n",
    "        all_data_df=pd.concat([all_data_df,temp_df_agg]).reset_index(drop=True)\n",
    "    \n",
    "    #elif file_lane1 in os.listdir('data/barcode_umi_counts') and file_lane2 not in os.listdir('data/barcode_umi_counts'):  \n",
    "        #temp_df = pd.read_csv(f'data/barcode_umi_counts/{file_lane1}')\n",
    "        #temp_df['bc_count']=1\n",
    "        #temp_df['barcode_umi']=temp_df['barcode']+'_'+temp_df['umi']\n",
    "        #temp_df_agg = temp_df.groupby(['virus_background','replicate','selection','sample','barcode']).agg({'bc_count':'sum'}).reset_index()\n",
    "        #all_data_df=pd.concat([all_data_df,temp_df_agg]).reset_index(drop=True)\n",
    "        \n",
    "    #elif file_lane2 in os.listdir('data/barcode_umi_counts') and file_lane1 not in os.listdir('data/barcode_umi_counts'):  \n",
    "        #temp_df = pd.read_csv(f'data/barcode_umi_counts/{file_lane2}')\n",
    "        #temp_df['bc_count']=1\n",
    "        #temp_df['barcode_umi']=temp_df['barcode']+'_'+temp_df['umi']\n",
    "        #temp_df_agg = temp_df.groupby(['virus_background','replicate','selection','sample','barcode']).agg({'bc_count':'sum'}).reset_index()\n",
    "        #all_data_df=pd.concat([all_data_df,temp_df_agg]).reset_index(drop=True)\n",
    "    \n",
    "    else:\n",
    "        continue\n",
    "\n",
    "all_data_df.to_csv('data/all_data_df.csv',index=False)\n",
    "all_data_df"
   ]
  },
  {
   "cell_type": "code",
   "execution_count": null,
   "id": "3a6d12ab-ae79-4b71-bfc2-ab0eaa2d4e3c",
   "metadata": {},
   "outputs": [],
   "source": []
  }
 ],
 "metadata": {
  "kernelspec": {
   "display_name": "flu_selections",
   "language": "python",
   "name": "flu_selections"
  },
  "language_info": {
   "codemirror_mode": {
    "name": "ipython",
    "version": 3
   },
   "file_extension": ".py",
   "mimetype": "text/x-python",
   "name": "python",
   "nbconvert_exporter": "python",
   "pygments_lexer": "ipython3",
   "version": "3.9.17"
  }
 },
 "nbformat": 4,
 "nbformat_minor": 5
}
